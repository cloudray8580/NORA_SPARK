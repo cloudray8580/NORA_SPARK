{
 "cells": [
  {
   "cell_type": "code",
   "execution_count": 34,
   "metadata": {},
   "outputs": [],
   "source": [
    "import findspark\n",
    "findspark.init() # this must be executed before the below import"
   ]
  },
  {
   "cell_type": "code",
   "execution_count": 35,
   "metadata": {},
   "outputs": [],
   "source": [
    "from pyspark import SparkContext, SparkConf\n",
    "from pyspark.sql import SQLContext\n",
    "from pyspark.sql import SparkSession\n",
    "from pyspark import SparkFiles"
   ]
  },
  {
   "cell_type": "code",
   "execution_count": 36,
   "metadata": {},
   "outputs": [],
   "source": [
    "sc = SparkContext()\n",
    "sqlContext = SQLContext(sc)"
   ]
  },
  {
   "cell_type": "code",
   "execution_count": 37,
   "metadata": {},
   "outputs": [],
   "source": [
    "import pandas as pd\n",
    "import time"
   ]
  },
  {
   "cell_type": "code",
   "execution_count": 5,
   "metadata": {},
   "outputs": [],
   "source": [
    "# last_time = time.time()\n",
    "\n",
    "# dfs = []\n",
    "# # originally, the raw dataset is placed on local file system\n",
    "# for chunk in pd.read_csv('/home/cloudray/Downloads/TPCH_12M_8Field.csv', chunksize = 1000000):\n",
    "#     current_time = time.time()\n",
    "#     print('loading time: ', current_time-last_time)\n",
    "    \n",
    "#     df_from_pd = sqlContext.createDataFrame(chunk)\n",
    "#     dfs.append(df_from_pd)\n",
    "    \n",
    "#     last_time = current_time"
   ]
  },
  {
   "cell_type": "code",
   "execution_count": 7,
   "metadata": {},
   "outputs": [],
   "source": [
    "# last_time = time.time()\n",
    "\n",
    "# # originally, the raw dataset is placed on local file system\n",
    "pdf = pd.read_csv('/home/cloudray/Downloads/TPCH_12M_8Field.csv')\n",
    "\n",
    "# current_time = time.time()\n",
    "# print('loading time: ', current_time-last_time)\n",
    "\n",
    "# df_from_pd = sqlContext.createDataFrame(pdf)\n",
    "\n",
    "# transformation_time = time.time()\n",
    "# print('transformation time: ', transformation_time-current_time)"
   ]
  },
  {
   "cell_type": "code",
   "execution_count": 8,
   "metadata": {},
   "outputs": [
    {
     "name": "stdout",
     "output_type": "stream",
     "text": [
      "11997995\n"
     ]
    }
   ],
   "source": [
    "print(len(pdf))"
   ]
  },
  {
   "cell_type": "code",
   "execution_count": 31,
   "metadata": {},
   "outputs": [
    {
     "name": "stdout",
     "output_type": "stream",
     "text": [
      "1.0\n",
      "1.0\n",
      "1.0\n"
     ]
    }
   ],
   "source": [
    "print(pdf.iloc[0,0])\n",
    "print(pdf.iloc[1,0])\n",
    "print(pdf.iloc[2,0])"
   ]
  },
  {
   "cell_type": "code",
   "execution_count": 32,
   "metadata": {},
   "outputs": [
    {
     "name": "stdout",
     "output_type": "stream",
     "text": [
      "134619.0\n",
      "127400.0\n",
      "4263.0\n"
     ]
    }
   ],
   "source": [
    "print(pdf.iloc[0,1])\n",
    "print(pdf.iloc[1,1])\n",
    "print(pdf.iloc[2,1])"
   ]
  },
  {
   "cell_type": "code",
   "execution_count": 27,
   "metadata": {},
   "outputs": [
    {
     "name": "stdout",
     "output_type": "stream",
     "text": [
      "(5, 2)\n",
      "(1, 2)\n",
      "[1, 1]\n",
      "(1, 1, 1, 1)\n"
     ]
    }
   ],
   "source": [
    "print(pdf[0:5].shape)\n",
    "print(pdf[0:1].shape)\n",
    "pdf_1 = pdf[0:1]\n",
    "pdf_1.iloc[0,0]\n",
    "\n",
    "pdf_list = pdf_1.values.tolist()[0]\n",
    "print(pdf_list)\n",
    "print(tuple(pdf_list+pdf_list))"
   ]
  },
  {
   "cell_type": "code",
   "execution_count": 17,
   "metadata": {},
   "outputs": [
    {
     "data": {
      "text/plain": [
       "(1, 2)"
      ]
     },
     "execution_count": 17,
     "metadata": {},
     "output_type": "execute_result"
    }
   ],
   "source": [
    "pdf.iloc[0:1].shape"
   ]
  },
  {
   "cell_type": "code",
   "execution_count": 51,
   "metadata": {},
   "outputs": [],
   "source": [
    "subpdf = pdf[0:1]"
   ]
  },
  {
   "cell_type": "code",
   "execution_count": 60,
   "metadata": {},
   "outputs": [
    {
     "data": {
      "text/html": [
       "<div>\n",
       "<style scoped>\n",
       "    .dataframe tbody tr th:only-of-type {\n",
       "        vertical-align: middle;\n",
       "    }\n",
       "\n",
       "    .dataframe tbody tr th {\n",
       "        vertical-align: top;\n",
       "    }\n",
       "\n",
       "    .dataframe thead th {\n",
       "        text-align: right;\n",
       "    }\n",
       "</style>\n",
       "<table border=\"1\" class=\"dataframe\">\n",
       "  <thead>\n",
       "    <tr style=\"text-align: right;\">\n",
       "      <th></th>\n",
       "      <th>_c0</th>\n",
       "      <th>_c1</th>\n",
       "      <th>_c2</th>\n",
       "      <th>_c3</th>\n",
       "      <th>_c4</th>\n",
       "      <th>_c5</th>\n",
       "      <th>_c6</th>\n",
       "      <th>_c7</th>\n",
       "    </tr>\n",
       "  </thead>\n",
       "  <tbody>\n",
       "    <tr>\n",
       "      <td>0</td>\n",
       "      <td>1.0</td>\n",
       "      <td>134619.0</td>\n",
       "      <td>14620.0</td>\n",
       "      <td>2.0</td>\n",
       "      <td>36.0</td>\n",
       "      <td>59529.96</td>\n",
       "      <td>0.09</td>\n",
       "      <td>0.06</td>\n",
       "    </tr>\n",
       "  </tbody>\n",
       "</table>\n",
       "</div>"
      ],
      "text/plain": [
       "   _c0       _c1      _c2  _c3   _c4       _c5   _c6   _c7\n",
       "0  1.0  134619.0  14620.0  2.0  36.0  59529.96  0.09  0.06"
      ]
     },
     "execution_count": 60,
     "metadata": {},
     "output_type": "execute_result"
    }
   ],
   "source": [
    "subpdf[0:2]"
   ]
  },
  {
   "cell_type": "code",
   "execution_count": 56,
   "metadata": {},
   "outputs": [],
   "source": [
    "subpdf.columns=['_c0','_c1','_c2','_c3','_c4','_c5','_c6','_c7']"
   ]
  },
  {
   "cell_type": "code",
   "execution_count": 57,
   "metadata": {},
   "outputs": [],
   "source": [
    "df_from_pd = sqlContext.createDataFrame(subpdf)"
   ]
  },
  {
   "cell_type": "code",
   "execution_count": 58,
   "metadata": {},
   "outputs": [
    {
     "name": "stdout",
     "output_type": "stream",
     "text": [
      "root\n",
      " |-- _c0: double (nullable = true)\n",
      " |-- _c1: double (nullable = true)\n",
      " |-- _c2: double (nullable = true)\n",
      " |-- _c3: double (nullable = true)\n",
      " |-- _c4: double (nullable = true)\n",
      " |-- _c5: double (nullable = true)\n",
      " |-- _c6: double (nullable = true)\n",
      " |-- _c7: double (nullable = true)\n",
      "\n"
     ]
    },
    {
     "data": {
      "text/plain": [
       "['_c0', '_c1', '_c2', '_c3', '_c4', '_c5', '_c6', '_c7']"
      ]
     },
     "execution_count": 58,
     "metadata": {},
     "output_type": "execute_result"
    }
   ],
   "source": [
    "df_from_pd.printSchema()\n",
    "df_from_pd.columns"
   ]
  },
  {
   "cell_type": "code",
   "execution_count": 36,
   "metadata": {},
   "outputs": [],
   "source": [
    "# def route_data_2_partition(dataset):\n",
    "#     c0 = 0\n",
    "#     for i in range(len(dataset)):\n",
    "#         if dataset.iloc[i,0] > 10:\n",
    "#             c0 += 1\n",
    "#     return c0"
   ]
  },
  {
   "cell_type": "code",
   "execution_count": 37,
   "metadata": {},
   "outputs": [
    {
     "name": "stdout",
     "output_type": "stream",
     "text": [
      "loading time:  162.6787714958191\n"
     ]
    }
   ],
   "source": [
    "last_time = time.time()\n",
    "route_data_2_partition(pdf)\n",
    "\n",
    "current_time = time.time()\n",
    "print('loading time: ', current_time-last_time)"
   ]
  },
  {
   "cell_type": "code",
   "execution_count": 40,
   "metadata": {},
   "outputs": [],
   "source": [
    "def check_data(d):\n",
    "    i = 0\n",
    "    if d[0] > 10:\n",
    "        i = 1"
   ]
  },
  {
   "cell_type": "code",
   "execution_count": 41,
   "metadata": {},
   "outputs": [
    {
     "name": "stdout",
     "output_type": "stream",
     "text": [
      "loading time:  274.4244432449341\n"
     ]
    }
   ],
   "source": [
    "last_time = time.time()\n",
    "\n",
    "pdf.apply(lambda x: check_data(x), axis=1)\n",
    "\n",
    "current_time = time.time()\n",
    "print('loading time: ', current_time-last_time)"
   ]
  },
  {
   "cell_type": "code",
   "execution_count": null,
   "metadata": {},
   "outputs": [],
   "source": [
    "# even slower"
   ]
  },
  {
   "cell_type": "code",
   "execution_count": 92,
   "metadata": {},
   "outputs": [],
   "source": [
    "# consider using a partition_rtree_index to find the corresponding partition\n",
    "# maybe we first impl the single thread version\n",
    "\n",
    "def record_2_border(row):\n",
    "    '''\n",
    "    row should be a pandas row, i.e., a point\n",
    "    border is the border required in rtree index\n",
    "    '''\n",
    "    row_list = row.values.tolist()[0]\n",
    "    return tuple(row_list + row_list)\n",
    "   \n",
    "def route_data_2_partition(dataset, partition_index, column_names, hdfs_path, print_execution_time=False):\n",
    "    '''\n",
    "    parameters:\n",
    "    @dataset: should be in the form of pandas dataframe here\n",
    "    @partition_index: the index of partitions\n",
    "    @column_names: a list of the column name str, like ['_c0','_c1','_c2']\n",
    "    '''   \n",
    "    pid_pdf_dict = {}\n",
    "    \n",
    "    start_time = time.time()\n",
    "    \n",
    "    for i in range(len(dataset)):\n",
    "        \n",
    "        record = dataset[i:i+1] # row shape = (1, n_dims)\n",
    "        print('i record: ', record)\n",
    "        point_border = record_2_border(record)\n",
    "        overlap_pids = list(partition_index.intersection(point_border)) # should only contains 1\n",
    "        pid = overlap_pids[0]\n",
    "        \n",
    "        # assign this record to the corresponding partition\n",
    "        if pid in pid_pdf_dict:\n",
    "            #pid_pdf_dict[pid] = pid_pdf_dict[pid].append(record) # must return, cannot replace\n",
    "            pid_pdf_dict[pid] = pd.concat([pid_pdf_dict[pid], record]) # a little bit faster\n",
    "        else:\n",
    "            pid_pdf_dict.update({pid:record})\n",
    "    \n",
    "    routing_time = time.time()\n",
    "    \n",
    "    # persist them in HDFS\n",
    "    for pid, pdf in pid_pdf_dict.items():\n",
    "        partition_name = 'partition_' + str(pid)+'.parquet'\n",
    "        path = hdfs_path + partition_name\n",
    "        pdf.columns = column_names\n",
    "        df = sqlContext.createDataFrame(pdf)\n",
    "        df.write.mode('append').parquet(path)\n",
    "        \n",
    "    persist_time = time.time()\n",
    "    \n",
    "    if print_execution_time:\n",
    "        print(pid_pdf_dict)\n",
    "        print('data routing time: ', routing_time-start_time)\n",
    "        print('data persist time: ', persist_time-routing_time)"
   ]
  },
  {
   "cell_type": "code",
   "execution_count": 93,
   "metadata": {},
   "outputs": [],
   "source": [
    "# = = = Unit Test = = =\n",
    "import rtree\n",
    "from rtree import index\n",
    "\n",
    "p = index.Property()\n",
    "p.leaf_capacity = 100\n",
    "p.fill_factor = 0.5\n",
    "p.overwrite = True\n",
    "\n",
    "partition_idx = index.Index(properties = p)\n",
    "\n",
    "partition_idx.insert(0, (0,0,4,4))\n",
    "partition_idx.insert(1, (0,4,4,7))\n",
    "partition_idx.insert(2, (4,0,6,7))"
   ]
  },
  {
   "cell_type": "code",
   "execution_count": 94,
   "metadata": {},
   "outputs": [],
   "source": [
    "import numpy as np\n",
    "pdf = pd.DataFrame(np.random.randint(6, size=(10,2)))"
   ]
  },
  {
   "cell_type": "code",
   "execution_count": 95,
   "metadata": {},
   "outputs": [],
   "source": [
    "column_names = ['_c0', '_c1']\n",
    "hdfs_path = 'hdfs://localhost:9000/user/cloudray/NORA/'"
   ]
  },
  {
   "cell_type": "code",
   "execution_count": 96,
   "metadata": {},
   "outputs": [
    {
     "name": "stdout",
     "output_type": "stream",
     "text": [
      "i record:     0  1\n",
      "0  0  0\n",
      "i record:     0  1\n",
      "1  2  5\n",
      "i record:     0  1\n",
      "2  1  0\n",
      "i record:     0  1\n",
      "3  4  1\n",
      "i record:     0  1\n",
      "4  4  4\n",
      "i record:     0  1\n",
      "5  1  3\n",
      "i record:     0  1\n",
      "6  0  2\n",
      "i record:     0  1\n",
      "7  0  3\n",
      "i record:     0  1\n",
      "8  4  4\n",
      "i record:     0  1\n",
      "9  1  3\n",
      "{0:    _c0  _c1\n",
      "0    0    0\n",
      "2    1    0\n",
      "3    4    1\n",
      "4    4    4\n",
      "5    1    3\n",
      "6    0    2\n",
      "7    0    3\n",
      "8    4    4\n",
      "9    1    3, 1:    _c0  _c1\n",
      "1    2    5}\n",
      "data routing time:  0.018423080444335938\n",
      "data persist time:  1.2101337909698486\n"
     ]
    }
   ],
   "source": [
    "route_data_2_partition(pdf, partition_idx, column_names, hdfs_path, True)"
   ]
  },
  {
   "cell_type": "code",
   "execution_count": 97,
   "metadata": {},
   "outputs": [
    {
     "name": "stdout",
     "output_type": "stream",
     "text": [
      "   0  1\n",
      "0  0  0\n",
      "1  2  5\n",
      "2  1  0\n",
      "3  4  1\n",
      "4  4  4\n",
      "5  1  3\n",
      "6  0  2\n",
      "7  0  3\n",
      "8  4  4\n",
      "9  1  3\n"
     ]
    }
   ],
   "source": [
    "print(pdf)"
   ]
  },
  {
   "cell_type": "code",
   "execution_count": 51,
   "metadata": {},
   "outputs": [],
   "source": [
    "pdf_sub = pdf[0:1]"
   ]
  },
  {
   "cell_type": "code",
   "execution_count": 52,
   "metadata": {},
   "outputs": [
    {
     "name": "stdout",
     "output_type": "stream",
     "text": [
      "   0  1\n",
      "0  4  0\n"
     ]
    }
   ],
   "source": [
    "print(pdf_sub)"
   ]
  },
  {
   "cell_type": "code",
   "execution_count": null,
   "metadata": {},
   "outputs": [],
   "source": [
    "df = context.read.parquet('hdfs://localhost:9000/user/cloudray/NORA/partition_1.parquet')"
   ]
  }
 ],
 "metadata": {
  "kernelspec": {
   "display_name": "Python 3",
   "language": "python",
   "name": "python3"
  },
  "language_info": {
   "codemirror_mode": {
    "name": "ipython",
    "version": 3
   },
   "file_extension": ".py",
   "mimetype": "text/x-python",
   "name": "python",
   "nbconvert_exporter": "python",
   "pygments_lexer": "ipython3",
   "version": "3.7.4"
  }
 },
 "nbformat": 4,
 "nbformat_minor": 2
}
