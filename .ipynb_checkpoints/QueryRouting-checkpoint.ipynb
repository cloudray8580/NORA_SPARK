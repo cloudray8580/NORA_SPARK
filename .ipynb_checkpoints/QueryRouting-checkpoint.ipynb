{
 "cells": [
  {
   "cell_type": "code",
   "execution_count": null,
   "metadata": {},
   "outputs": [],
   "source": [
    "import findspark\n",
    "findspark.init() # this must be executed before the below import"
   ]
  },
  {
   "cell_type": "code",
   "execution_count": null,
   "metadata": {},
   "outputs": [],
   "source": [
    "from pyspark import SparkContext, SparkConf\n",
    "from pyspark.sql import SQLContext\n",
    "from pyspark.sql import SparkSession\n",
    "from pyspark import SparkFiles"
   ]
  },
  {
   "cell_type": "code",
   "execution_count": null,
   "metadata": {},
   "outputs": [],
   "source": [
    "import time"
   ]
  },
  {
   "cell_type": "code",
   "execution_count": null,
   "metadata": {},
   "outputs": [],
   "source": [
    "sc = SparkContext()\n",
    "sqlContext = SQLContext(sc)"
   ]
  },
  {
   "cell_type": "code",
   "execution_count": null,
   "metadata": {},
   "outputs": [],
   "source": [
    "# use a Rtree to index the partitions, the id is the partition id\n",
    "# use a dictionary to save the {partition_id : parquet_id}\n",
    "# compose parquet file address with the parquet_id, or do we directly use partition id as parquet id"
   ]
  },
  {
   "cell_type": "code",
   "execution_count": null,
   "metadata": {},
   "outputs": [],
   "source": [
    "def find_overlap_parquets(query, partition_index):\n",
    "    '''\n",
    "    find out all the overlap partition ids\n",
    "    '''\n",
    "    query_lower = [qr[0] for qr in query]\n",
    "    query_upper = [qr[1] for qr in query]\n",
    "    query_border = tuple(query_lower + query_upper)\n",
    "    overlap_pids = list(partition_index.intersection(query_border))\n",
    "    \n",
    "    return overlap_pids"
   ]
  },
  {
   "cell_type": "code",
   "execution_count": null,
   "metadata": {},
   "outputs": [],
   "source": [
    "def get_parquet_file_paths(partition_ids, hdfs_path=None):\n",
    "    \n",
    "    if hdfs_path == None:\n",
    "        hdfs_path = 'hdfs://localhost:9000/user/cloudray/NORA/'\n",
    "    \n",
    "    result_paths = []\n",
    "    \n",
    "    for pid in partition_ids:\n",
    "        partition_name = 'partition_' + str(pid)+'.parquet'\n",
    "        path = hdfs_path + partition_name\n",
    "        result_paths.append(path)\n",
    "        \n",
    "    return result_paths"
   ]
  },
  {
   "cell_type": "code",
   "execution_count": 6,
   "metadata": {},
   "outputs": [],
   "source": [
    "def transform_query_to_sql(query, used_dims, column_name_dict):\n",
    "    sql = ''\n",
    "    for i in range(len(query)):\n",
    "        if query[i][0] != -1:\n",
    "            sql += column_name_dict[used_dims[i]] + '>=' + str(query[i][0]) + ' and '\n",
    "        if query[i][1] != -1:\n",
    "            sql += column_name_dict[used_dims[i]] + '<=' + str(query[i][1]) + ' and '\n",
    "    sql = sql[0:-4]\n",
    "    return sql"
   ]
  },
  {
   "cell_type": "code",
   "execution_count": null,
   "metadata": {},
   "outputs": [],
   "source": [
    "def query_with_parquets(query, partition_index, used_dims, column_name_dict, \n",
    "                        hdfs_path, print_execution_time=False):\n",
    "    '''\n",
    "    parameters:\n",
    "    @query: should contains the same dimension that partition_index holds\n",
    "    \n",
    "    first, find the overlapped parquet ids\n",
    "    second, load these parquets\n",
    "    third, query from the loaded parquets\n",
    "    '''\n",
    "    start_time = time.time()\n",
    "    \n",
    "    pids = find_overlap_parquets(query, partition_index)\n",
    "    paths = get_parquet_file_paths(pids, hdfs_path)\n",
    "    dfs = sqlContext.read.parquet(*paths)\n",
    "    sql = transform_query_to_sql(query, used_dims, column_name_dict)\n",
    "    query_result = dfs.filter(sql).collect()\n",
    "    \n",
    "    end_time = time.time()\n",
    "    query_response_time = end_time - start_time\n",
    "    \n",
    "    if print_execution_time:\n",
    "        print('query response time: ', query_response_time)\n",
    "    \n",
    "    return query_result"
   ]
  },
  {
   "cell_type": "code",
   "execution_count": 9,
   "metadata": {},
   "outputs": [],
   "source": [
    "# # = = = Unit Test = = =\n",
    "\n",
    "# column_name_dict = {0:'_c0', 1:'_c1', 2:'_c2', 3:'_c3'}\n",
    "# query = [[-1,-1],[10,20],[10,-1]]\n",
    "\n",
    "# sql = transform_query_to_sql(query, column_name_dict)\n",
    "# print(sql)"
   ]
  },
  {
   "cell_type": "code",
   "execution_count": null,
   "metadata": {},
   "outputs": [],
   "source": [
    "def kdnode_2_border(kdnode):\n",
    "    lower = [domain[0] for domain in kdnode[0]]\n",
    "    upper = [domain[1] for domain in kdnode[0]]\n",
    "    border = tuple(lower + upper) # non interleave\n",
    "    return border\n",
    "\n",
    "def batch_query(queryset, partition_path, used_dims, column_name_dict, hdfs_path):\n",
    "    \n",
    "    start_time = time.time()\n",
    "    \n",
    "    partitions = load_partitions_from_file(partition_path)\n",
    "    \n",
    "    p = index.Property()\n",
    "    p.leaf_capacity = 100 # cannot be less than 100, indicate the maximum capacity\n",
    "    p.fill_factor = 0.5\n",
    "    p.overwrite = True\n",
    "    \n",
    "    partition_index = index.Index(properties = p)\n",
    "    for i in range(len(partitions)):\n",
    "        # qd-tree do not have this\n",
    "        #partition_index.insert(int(partitions[i][-4]), kdnode_2_border(partitions[i])) \n",
    "        partition_index.insert(i, kdnode_2_border(partitions[i]))\n",
    "    \n",
    "    # add statistics result\n",
    "    for query in queryset:\n",
    "        query_with_parquets(query, partition_index, used_dims, column_name_dict, hdfs_path)\n",
    "    \n",
    "    end_time = time.time()\n",
    "    \n",
    "    query_response_time = end_time - start_time\n",
    "    avg_query_response_time = query_response_time / len(queryset)\n",
    "    \n",
    "    print('total query response time: ', query_response_time)\n",
    "    print('average query response time: ', avg_query_response_time)"
   ]
  },
  {
   "cell_type": "code",
   "execution_count": null,
   "metadata": {},
   "outputs": [],
   "source": [
    "# = = = Execution = = =\n",
    "partition_path = '/home/cloudray/NORA_Partitions/nora_partitions'\n",
    "used_dims = [1,2]\n",
    "column_names = ['_c0', '_c1', '_c2', '_c3', '_c4', '_c5', '_c6', '_c7']\n",
    "hdfs_path = 'hdfs://localhost:9000/user/cloudray/NORA/'\n",
    "\n",
    "batch_query(queryset, partition_path, used_dims, column_name_dict, hdfs_path)"
   ]
  }
 ],
 "metadata": {
  "kernelspec": {
   "display_name": "Python 3",
   "language": "python",
   "name": "python3"
  },
  "language_info": {
   "codemirror_mode": {
    "name": "ipython",
    "version": 3
   },
   "file_extension": ".py",
   "mimetype": "text/x-python",
   "name": "python",
   "nbconvert_exporter": "python",
   "pygments_lexer": "ipython3",
   "version": "3.7.4"
  }
 },
 "nbformat": 4,
 "nbformat_minor": 2
}
