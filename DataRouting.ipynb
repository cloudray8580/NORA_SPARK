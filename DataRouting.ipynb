{
 "cells": [
  {
   "cell_type": "code",
   "execution_count": null,
   "metadata": {},
   "outputs": [],
   "source": [
    "import findspark\n",
    "findspark.init() # this must be executed before the below import"
   ]
  },
  {
   "cell_type": "code",
   "execution_count": null,
   "metadata": {},
   "outputs": [],
   "source": [
    "from pyspark import SparkContext, SparkConf\n",
    "from pyspark.sql import SQLContext\n",
    "from pyspark.sql import SparkSession\n",
    "from pyspark import SparkFiles"
   ]
  },
  {
   "cell_type": "code",
   "execution_count": null,
   "metadata": {},
   "outputs": [],
   "source": [
    "import pandas as pd\n",
    "import time"
   ]
  },
  {
   "cell_type": "code",
   "execution_count": 6,
   "metadata": {},
   "outputs": [],
   "source": [
    "# consider using a partition_rtree_index to find the corresponding partition\n",
    "# this is single thread\n",
    "def record_2_border(row, used_dims):\n",
    "    '''\n",
    "    row should be a pandas row, i.e., a point\n",
    "    border is the border required in rtree index\n",
    "    '''\n",
    "    row_used_dims = row.iloc[:,used_dims]\n",
    "    row_list = row_used_dims.values.tolist()[0]\n",
    "    return tuple(row_list + row_list)\n",
    "   \n",
    "def route_data_2_partition(dataset, used_dims, partition_index, column_names, hdfs_path, \n",
    "                           print_execution_time=False):\n",
    "    '''\n",
    "    parameters:\n",
    "    @dataset: should be in the form of pandas dataframe here\n",
    "    @partition_index: the index of partitions\n",
    "    @column_names: a list of the column name str, like ['_c0','_c1','_c2']\n",
    "    '''   \n",
    "    pid_pdf_dict = {}\n",
    "    \n",
    "    start_time = time.time()\n",
    "    \n",
    "    for i in range(len(dataset)):\n",
    "        \n",
    "        record = dataset[i:i+1] # row shape = (1, n_dims)\n",
    "        point_border = record_2_border(record, used_dims)\n",
    "        overlap_pids = list(partition_index.intersection(point_border)) # should only contains 1\n",
    "        pid = overlap_pids[0]\n",
    "        \n",
    "        # assign this record to the corresponding partition\n",
    "        if pid in pid_pdf_dict:\n",
    "            #pid_pdf_dict[pid] = pid_pdf_dict[pid].append(record) # must return, cannot replace\n",
    "            pid_pdf_dict[pid] = pd.concat([pid_pdf_dict[pid], record]) # a little bit faster\n",
    "        else:\n",
    "            pid_pdf_dict.update({pid:record})\n",
    "    \n",
    "    routing_time = time.time()\n",
    "    \n",
    "    # persist them in HDFS\n",
    "    for pid, pdf in pid_pdf_dict.items():\n",
    "        partition_name = 'partition_' + str(pid)+'.parquet'\n",
    "        path = hdfs_path + partition_name\n",
    "        pdf.columns = column_names\n",
    "        df = sqlContext.createDataFrame(pdf)\n",
    "        df.write.mode('append').parquet(path)\n",
    "        \n",
    "    persist_time = time.time()\n",
    "    \n",
    "    if print_execution_time:\n",
    "        print(pid_pdf_dict)\n",
    "        print('data routing time: ', routing_time-start_time)\n",
    "        print('data persist time: ', persist_time-routing_time)"
   ]
  },
  {
   "cell_type": "code",
   "execution_count": null,
   "metadata": {},
   "outputs": [],
   "source": [
    "def batch_data(raw_data_path, chunk_size, partition_index, column_names, hdfs_path):\n",
    "    begin_time = time.time()\n",
    "    for chunk in pd.read_csv(raw_data_path, chunksize=chunk_size):\n",
    "        # process this chunk of data\n",
    "        route_data_2_partition(chunk, partition_index, column_names, hdfs_path)\n",
    "    \n",
    "    finish_time = time.time()\n",
    "    print('total data routing and persisting time: ', finish_time - begin_time)"
   ]
  },
  {
   "cell_type": "code",
   "execution_count": 1,
   "metadata": {},
   "outputs": [],
   "source": [
    "# try multi-thread\n",
    "\n",
    "import threading\n",
    "\n",
    "class myThread(threading.Thread):\n",
    "    def __init__(self, thread_id, name, counter, parameters):\n",
    "        threading.Thread.__init__(self)\n",
    "        self.thread_id = thread_id\n",
    "        self.name = name\n",
    "        self.counter = counter\n",
    "        self.parameters = parameters\n",
    "        \n",
    "    def run(self):\n",
    "        print('start thread: ',thread_id, name)\n",
    "        chunk, used_dims, partition_index, column_names, hdfs_path = self.parameters\n",
    "        route_data_2_partition(chunk, used_dims, partition_index, column_names, hdfs_path)\n",
    "        print('exit thread: ',thread_id, name)\n",
    "\n",
    "max_threads = 8\n",
    "\n",
    "def batch_data_parallel(raw_data_path, chunk_size, used_dims, partition_index, column_names, hdfs_path):\n",
    "    begin_time = time.time()\n",
    "    \n",
    "    count = 0\n",
    "    threads = []\n",
    "    for chunk in pd.read_csv(raw_data_path, chunksize=chunk_size):\n",
    "        # process this chunk of data\n",
    "        tid = count % max_threads\n",
    "        thread = myThread(tid, 'thread_'+str(tid)+'_'+str(count), count)\n",
    "        thread.start()\n",
    "        threads.append(thread)\n",
    "        count += 1\n",
    "        \n",
    "        if tid == max_threads-1:\n",
    "            for t in threads:\n",
    "                t.join()\n",
    "            threads = []\n",
    "            \n",
    "    finish_time = time.time()\n",
    "    print('total data routing and persisting time: ', finish_time - begin_time)"
   ]
  },
  {
   "cell_type": "code",
   "execution_count": null,
   "metadata": {},
   "outputs": [],
   "source": [
    "raw_data_path = '/home/cloudray/Downloads/TPCH_12M_8Field.csv'\n",
    "chunk_size = 10000\n",
    "column_names = ['_c0', '_c1'] # handle this\n",
    "hdfs_path = 'hdfs://localhost:9000/user/cloudray/NORA/'\n",
    "partition_and_query_dims = [1,2]\n",
    "\n",
    "batch_data(raw_data_path, chunk_size, partition_and_query_dims, partition_index, column_names, hdfs_path)"
   ]
  },
  {
   "cell_type": "code",
   "execution_count": 5,
   "metadata": {},
   "outputs": [
    {
     "ename": "TypeError",
     "evalue": "list indices must be integers or slices, not list",
     "output_type": "error",
     "traceback": [
      "\u001b[0;31m---------------------------------------------------------------------------\u001b[0m",
      "\u001b[0;31mTypeError\u001b[0m                                 Traceback (most recent call last)",
      "\u001b[0;32m<ipython-input-5-65cbbfeaee53>\u001b[0m in \u001b[0;36m<module>\u001b[0;34m\u001b[0m\n\u001b[1;32m      1\u001b[0m \u001b[0ma\u001b[0m \u001b[0;34m=\u001b[0m \u001b[0;34m[\u001b[0m\u001b[0;36m0\u001b[0m\u001b[0;34m,\u001b[0m\u001b[0;36m1\u001b[0m\u001b[0;34m,\u001b[0m\u001b[0;36m2\u001b[0m\u001b[0;34m,\u001b[0m\u001b[0;36m3\u001b[0m\u001b[0;34m,\u001b[0m\u001b[0;36m4\u001b[0m\u001b[0;34m,\u001b[0m\u001b[0;36m5\u001b[0m\u001b[0;34m]\u001b[0m\u001b[0;34m\u001b[0m\u001b[0;34m\u001b[0m\u001b[0m\n\u001b[1;32m      2\u001b[0m \u001b[0mb\u001b[0m \u001b[0;34m=\u001b[0m \u001b[0;34m[\u001b[0m\u001b[0;36m1\u001b[0m\u001b[0;34m,\u001b[0m\u001b[0;36m2\u001b[0m\u001b[0;34m]\u001b[0m\u001b[0;34m\u001b[0m\u001b[0;34m\u001b[0m\u001b[0m\n\u001b[0;32m----> 3\u001b[0;31m \u001b[0mprint\u001b[0m\u001b[0;34m(\u001b[0m\u001b[0ma\u001b[0m\u001b[0;34m[\u001b[0m\u001b[0mb\u001b[0m\u001b[0;34m]\u001b[0m\u001b[0;34m)\u001b[0m\u001b[0;34m\u001b[0m\u001b[0;34m\u001b[0m\u001b[0m\n\u001b[0m",
      "\u001b[0;31mTypeError\u001b[0m: list indices must be integers or slices, not list"
     ]
    }
   ],
   "source": [
    "# we do not need to persist the rtree index, but only the partition layout\n",
    "# we can then generate the index at run time, which is not costly"
   ]
  },
  {
   "cell_type": "code",
   "execution_count": null,
   "metadata": {},
   "outputs": [],
   "source": []
  }
 ],
 "metadata": {
  "kernelspec": {
   "display_name": "Python 3",
   "language": "python",
   "name": "python3"
  },
  "language_info": {
   "codemirror_mode": {
    "name": "ipython",
    "version": 3
   },
   "file_extension": ".py",
   "mimetype": "text/x-python",
   "name": "python",
   "nbconvert_exporter": "python",
   "pygments_lexer": "ipython3",
   "version": "3.7.4"
  }
 },
 "nbformat": 4,
 "nbformat_minor": 2
}
